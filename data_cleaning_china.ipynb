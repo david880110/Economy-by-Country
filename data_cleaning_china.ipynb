{
 "cells": [
  {
   "cell_type": "code",
   "execution_count": 2,
   "metadata": {
    "collapsed": true
   },
   "outputs": [],
   "source": [
    "import pandas as pd\n",
    "import numpy as np"
   ]
  },
  {
   "cell_type": "code",
   "execution_count": 8,
   "metadata": {
    "collapsed": true
   },
   "outputs": [],
   "source": [
    "# Load data\n",
    "df_gdp_mainlandchina = pd.read_csv('raw_data/data-gdp-mainlandchina-2019.csv')\n",
    "data_gdp_world = pd.read_csv('raw_data/WEO_Data.csv') \n",
    "\n",
    "df_pop_china = pd.read_csv('raw_data/data-pop-china-2017.csv')  \n",
    "\n",
    "df_region_china = pd.read_csv('raw_data/data-economyregion-china.csv')  "
   ]
  },
  {
   "cell_type": "code",
   "execution_count": 6,
   "metadata": {},
   "outputs": [
    {
     "data": {
      "text/html": [
       "<div>\n",
       "<style>\n",
       "    .dataframe thead tr:only-child th {\n",
       "        text-align: right;\n",
       "    }\n",
       "\n",
       "    .dataframe thead th {\n",
       "        text-align: left;\n",
       "    }\n",
       "\n",
       "    .dataframe tbody tr th {\n",
       "        vertical-align: top;\n",
       "    }\n",
       "</style>\n",
       "<table border=\"1\" class=\"dataframe\">\n",
       "  <thead>\n",
       "    <tr style=\"text-align: right;\">\n",
       "      <th></th>\n",
       "      <th>Nominal GDP (Billion)</th>\n",
       "      <th>Administrative Division</th>\n",
       "      <th>Population</th>\n",
       "      <th>Region</th>\n",
       "      <th>Economic Zone #</th>\n",
       "      <th>Economic Zone</th>\n",
       "      <th>经济区</th>\n",
       "      <th>Characteristic</th>\n",
       "      <th>Country</th>\n",
       "      <th>Year</th>\n",
       "    </tr>\n",
       "  </thead>\n",
       "  <tbody>\n",
       "    <tr>\n",
       "      <th>29</th>\n",
       "      <td>43.0</td>\n",
       "      <td>Qinghai</td>\n",
       "      <td>5980000</td>\n",
       "      <td>West-CN</td>\n",
       "      <td>10</td>\n",
       "      <td>Qinghai-Tibet Plateau</td>\n",
       "      <td>青藏高原经济区</td>\n",
       "      <td>Natural gas, salt lake resources, non-ferrous ...</td>\n",
       "      <td>China</td>\n",
       "      <td>2019</td>\n",
       "    </tr>\n",
       "    <tr>\n",
       "      <th>30</th>\n",
       "      <td>25.0</td>\n",
       "      <td>Tibet</td>\n",
       "      <td>3370000</td>\n",
       "      <td>West-CN</td>\n",
       "      <td>10</td>\n",
       "      <td>Qinghai-Tibet Plateau</td>\n",
       "      <td>青藏高原经济区</td>\n",
       "      <td>Natural gas, salt lake resources, non-ferrous ...</td>\n",
       "      <td>China</td>\n",
       "      <td>2019</td>\n",
       "    </tr>\n",
       "    <tr>\n",
       "      <th>31</th>\n",
       "      <td>NaN</td>\n",
       "      <td>Hong Kong</td>\n",
       "      <td>7335384</td>\n",
       "      <td>Hong Kong-CN</td>\n",
       "      <td>11</td>\n",
       "      <td>Hong Kong</td>\n",
       "      <td>香港特别行政区</td>\n",
       "      <td>Trade and logistics industry (21.2%), financia...</td>\n",
       "      <td>China</td>\n",
       "      <td>2019</td>\n",
       "    </tr>\n",
       "    <tr>\n",
       "      <th>32</th>\n",
       "      <td>NaN</td>\n",
       "      <td>Macau</td>\n",
       "      <td>644900</td>\n",
       "      <td>Macau-CN</td>\n",
       "      <td>12</td>\n",
       "      <td>Macau</td>\n",
       "      <td>澳门港特别行政区</td>\n",
       "      <td>Tourism and apparel industry (41%)</td>\n",
       "      <td>China</td>\n",
       "      <td>2019</td>\n",
       "    </tr>\n",
       "    <tr>\n",
       "      <th>33</th>\n",
       "      <td>NaN</td>\n",
       "      <td>Taiwan</td>\n",
       "      <td>23562318</td>\n",
       "      <td>Taiwan-CN</td>\n",
       "      <td>13</td>\n",
       "      <td>Taiwan</td>\n",
       "      <td>台澎金马个别关税领域</td>\n",
       "      <td>Agricultural products and OEM</td>\n",
       "      <td>China</td>\n",
       "      <td>2019</td>\n",
       "    </tr>\n",
       "  </tbody>\n",
       "</table>\n",
       "</div>"
      ],
      "text/plain": [
       "    Nominal GDP (Billion) Administrative Division  Population        Region  \\\n",
       "29                   43.0                 Qinghai     5980000       West-CN   \n",
       "30                   25.0                   Tibet     3370000       West-CN   \n",
       "31                    NaN               Hong Kong     7335384  Hong Kong-CN   \n",
       "32                    NaN                   Macau      644900      Macau-CN   \n",
       "33                    NaN                  Taiwan    23562318     Taiwan-CN   \n",
       "\n",
       "    Economic Zone #          Economic Zone         经济区  \\\n",
       "29               10  Qinghai-Tibet Plateau     青藏高原经济区   \n",
       "30               10  Qinghai-Tibet Plateau     青藏高原经济区   \n",
       "31               11              Hong Kong     香港特别行政区   \n",
       "32               12                  Macau    澳门港特别行政区   \n",
       "33               13                 Taiwan  台澎金马个别关税领域   \n",
       "\n",
       "                                       Characteristic Country  Year  \n",
       "29  Natural gas, salt lake resources, non-ferrous ...   China  2019  \n",
       "30  Natural gas, salt lake resources, non-ferrous ...   China  2019  \n",
       "31  Trade and logistics industry (21.2%), financia...   China  2019  \n",
       "32                 Tourism and apparel industry (41%)   China  2019  \n",
       "33                      Agricultural products and OEM   China  2019  "
      ]
     },
     "execution_count": 6,
     "metadata": {},
     "output_type": "execute_result"
    }
   ],
   "source": [
    "# Merge dataframe for China\n",
    "df_china = pd.DataFrame.merge(df_gdp_mainlandchina,df_pop_china,how='right',left_on='Provinces',right_on='Administrative Division')\n",
    "df_china = pd.DataFrame.merge(df_china,df_region_china,how='left',left_on='Administrative Division',right_on='Provinces')\n",
    "\n",
    "# Don't show Unnamed columns\n",
    "df_china = df_china.loc[:, ~df_china.columns.str.contains('^Unnamed')] \n",
    "\n",
    "# Drop column\n",
    "df_china = df_china.drop(['Provinces_x'], axis=1)\n",
    "df_china = df_china.drop(['Provinces_y'], axis=1)\n",
    "\n",
    "# Add column\n",
    "df_china['Country'] = 'China'\n",
    "df_china['Year'] = '2019'\n",
    "\n",
    "# Concat 'CN' to all value in[Region]\n",
    "df_china['Region'] = df_china['Region'].map(str) + '-CN'\n",
    "\n",
    "df_china.tail()"
   ]
  },
  {
   "cell_type": "code",
   "execution_count": 9,
   "metadata": {},
   "outputs": [
    {
     "name": "stdout",
     "output_type": "stream",
     "text": [
      "Hong Kong GDP:  372.99\n",
      "Macau GDP:  55.14\n",
      "Taiwan GDP:  586.1\n"
     ]
    }
   ],
   "source": [
    "# Get GDP value for Hong Kong, Macau and Taiwan\n",
    "df_hongkong = data_gdp_world[data_gdp_world['Country'].str.contains('hong kong', case=False, na=False)]\n",
    "hongkong_gdp = df_hongkong.loc[df_hongkong['Subject Descriptor'] == 'Gross domestic product, current prices', '2019'].values[0]\n",
    "\n",
    "df_macau = data_gdp_world[data_gdp_world['Country'].str.contains('maca', case=False, na=False)]\n",
    "macau_gdp = df_macau.loc[df_macau['Subject Descriptor'] == 'Gross domestic product, current prices', '2019'].values[0]\n",
    "\n",
    "df_taiwan = data_gdp_world[data_gdp_world['Country'].str.contains('taiwan', case=False, na=False)]\n",
    "taiwan_gdp = df_taiwan.loc[df_taiwan['Subject Descriptor'] == 'Gross domestic product, current prices', '2019'].values[0]\n",
    "\n",
    "print('Hong Kong GDP: ',hongkong_gdp)\n",
    "print('Macau GDP: ',macau_gdp)\n",
    "print('Taiwan GDP: ',taiwan_gdp)"
   ]
  }
 ],
 "metadata": {
  "kernelspec": {
   "display_name": "Python 3",
   "language": "python",
   "name": "python3"
  },
  "language_info": {
   "codemirror_mode": {
    "name": "ipython",
    "version": 3
   },
   "file_extension": ".py",
   "mimetype": "text/x-python",
   "name": "python",
   "nbconvert_exporter": "python",
   "pygments_lexer": "ipython3",
   "version": "3.6.3"
  }
 },
 "nbformat": 4,
 "nbformat_minor": 2
}
