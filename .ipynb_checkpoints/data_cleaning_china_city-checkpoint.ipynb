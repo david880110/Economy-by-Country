{
 "cells": [
  {
   "cell_type": "code",
   "execution_count": 1,
   "metadata": {
    "collapsed": true
   },
   "outputs": [],
   "source": [
    "import pandas as pd\n",
    "import numpy as np"
   ]
  },
  {
   "cell_type": "code",
   "execution_count": 2,
   "metadata": {},
   "outputs": [
    {
     "data": {
      "text/html": [
       "<div>\n",
       "<style>\n",
       "    .dataframe thead tr:only-child th {\n",
       "        text-align: right;\n",
       "    }\n",
       "\n",
       "    .dataframe thead th {\n",
       "        text-align: left;\n",
       "    }\n",
       "\n",
       "    .dataframe tbody tr th {\n",
       "        vertical-align: top;\n",
       "    }\n",
       "</style>\n",
       "<table border=\"1\" class=\"dataframe\">\n",
       "  <thead>\n",
       "    <tr style=\"text-align: right;\">\n",
       "      <th></th>\n",
       "      <th>cities</th>\n",
       "      <th>provinces</th>\n",
       "      <th>GDP (USD) M</th>\n",
       "      <th>GDPpc</th>\n",
       "    </tr>\n",
       "  </thead>\n",
       "  <tbody>\n",
       "    <tr>\n",
       "      <th>0</th>\n",
       "      <td>Shanghai[2]</td>\n",
       "      <td>Shanghai</td>\n",
       "      <td>453701</td>\n",
       "      <td>18756</td>\n",
       "    </tr>\n",
       "    <tr>\n",
       "      <th>1</th>\n",
       "      <td>Beijing[2]</td>\n",
       "      <td>Beijing</td>\n",
       "      <td>414926</td>\n",
       "      <td>19105</td>\n",
       "    </tr>\n",
       "    <tr>\n",
       "      <th>2</th>\n",
       "      <td>Shenzhen[3]</td>\n",
       "      <td>Guangdong</td>\n",
       "      <td>341679</td>\n",
       "      <td>32091</td>\n",
       "    </tr>\n",
       "    <tr>\n",
       "      <th>3</th>\n",
       "      <td>Hong Kong[4]</td>\n",
       "      <td>Hong Kong</td>\n",
       "      <td>333097</td>\n",
       "      <td>37180</td>\n",
       "    </tr>\n",
       "    <tr>\n",
       "      <th>4</th>\n",
       "      <td>Guangzhou[4]</td>\n",
       "      <td>Guangdong</td>\n",
       "      <td>318480</td>\n",
       "      <td>22317</td>\n",
       "    </tr>\n",
       "  </tbody>\n",
       "</table>\n",
       "</div>"
      ],
      "text/plain": [
       "         cities  provinces  GDP (USD) M  GDPpc\n",
       "0   Shanghai[2]   Shanghai       453701  18756\n",
       "1    Beijing[2]    Beijing       414926  19105\n",
       "2   Shenzhen[3]  Guangdong       341679  32091\n",
       "3  Hong Kong[4]  Hong Kong       333097  37180\n",
       "4  Guangzhou[4]  Guangdong       318480  22317"
      ]
     },
     "execution_count": 2,
     "metadata": {},
     "output_type": "execute_result"
    }
   ],
   "source": [
    "# Load data\n",
    "data_gdp_china_city = pd.read_csv('raw_data/data-gdp-primarycity-china-2017.csv')\n",
    "data_gdp_china_city.head()"
   ]
  },
  {
   "cell_type": "code",
   "execution_count": 3,
   "metadata": {},
   "outputs": [
    {
     "data": {
      "text/html": [
       "<div>\n",
       "<style>\n",
       "    .dataframe thead tr:only-child th {\n",
       "        text-align: right;\n",
       "    }\n",
       "\n",
       "    .dataframe thead th {\n",
       "        text-align: left;\n",
       "    }\n",
       "\n",
       "    .dataframe tbody tr th {\n",
       "        vertical-align: top;\n",
       "    }\n",
       "</style>\n",
       "<table border=\"1\" class=\"dataframe\">\n",
       "  <thead>\n",
       "    <tr style=\"text-align: right;\">\n",
       "      <th></th>\n",
       "      <th>cities</th>\n",
       "      <th>provinces</th>\n",
       "      <th>GDPpc</th>\n",
       "      <th>GDP (USD) B</th>\n",
       "      <th>Population</th>\n",
       "    </tr>\n",
       "  </thead>\n",
       "  <tbody>\n",
       "    <tr>\n",
       "      <th>0</th>\n",
       "      <td>Shanghai</td>\n",
       "      <td>Shanghai</td>\n",
       "      <td>18756</td>\n",
       "      <td>454.0</td>\n",
       "      <td>2.418965e+07</td>\n",
       "    </tr>\n",
       "    <tr>\n",
       "      <th>1</th>\n",
       "      <td>Beijing</td>\n",
       "      <td>Beijing</td>\n",
       "      <td>19105</td>\n",
       "      <td>415.0</td>\n",
       "      <td>2.171819e+07</td>\n",
       "    </tr>\n",
       "    <tr>\n",
       "      <th>2</th>\n",
       "      <td>Shenzhen</td>\n",
       "      <td>Guangdong</td>\n",
       "      <td>32091</td>\n",
       "      <td>342.0</td>\n",
       "      <td>1.064719e+07</td>\n",
       "    </tr>\n",
       "    <tr>\n",
       "      <th>3</th>\n",
       "      <td>Hong Kong</td>\n",
       "      <td>Hong Kong</td>\n",
       "      <td>37180</td>\n",
       "      <td>333.0</td>\n",
       "      <td>8.959037e+06</td>\n",
       "    </tr>\n",
       "    <tr>\n",
       "      <th>4</th>\n",
       "      <td>Guangzhou</td>\n",
       "      <td>Guangdong</td>\n",
       "      <td>22317</td>\n",
       "      <td>318.0</td>\n",
       "      <td>1.427074e+07</td>\n",
       "    </tr>\n",
       "  </tbody>\n",
       "</table>\n",
       "</div>"
      ],
      "text/plain": [
       "      cities  provinces  GDPpc  GDP (USD) B    Population\n",
       "0   Shanghai   Shanghai  18756        454.0  2.418965e+07\n",
       "1    Beijing    Beijing  19105        415.0  2.171819e+07\n",
       "2   Shenzhen  Guangdong  32091        342.0  1.064719e+07\n",
       "3  Hong Kong  Hong Kong  37180        333.0  8.959037e+06\n",
       "4  Guangzhou  Guangdong  22317        318.0  1.427074e+07"
      ]
     },
     "execution_count": 3,
     "metadata": {},
     "output_type": "execute_result"
    }
   ],
   "source": [
    "# Clean data in ['Country']\n",
    "data_gdp_china_city['cities'] = data_gdp_china_city['cities'].str.rsplit('[').str[0]\n",
    "\n",
    "# Convert GDP to Billion\n",
    "data_gdp_china_city['GDP (USD) B'] = data_gdp_china_city['GDP (USD) M']/1000\n",
    "data_gdp_china_city['GDP (USD) B'] = data_gdp_china_city['GDP (USD) B'].round(0) # Set 0 decimal places\n",
    "\n",
    "# Calculate population\n",
    "data_gdp_china_city['Population'] = data_gdp_china_city['GDP (USD) M']*1000000/data_gdp_china_city['GDPpc']\n",
    "data_gdp_china_city['GDPpc'] = data_gdp_china_city['GDPpc'].round(0) # Set 0 decimal places\n",
    "\n",
    "# Reorder columns\n",
    "df_china_city = data_gdp_china_city[['cities','provinces','GDPpc','GDP (USD) B','Population']]\n",
    "\n",
    "df_china_city.head()"
   ]
  },
  {
   "cell_type": "code",
   "execution_count": 4,
   "metadata": {
    "collapsed": true
   },
   "outputs": [],
   "source": [
    "df_china_city.to_csv('clean_data/clean_china_by_city.csv')"
   ]
  }
 ],
 "metadata": {
  "kernelspec": {
   "display_name": "Python 3",
   "language": "python",
   "name": "python3"
  },
  "language_info": {
   "codemirror_mode": {
    "name": "ipython",
    "version": 3
   },
   "file_extension": ".py",
   "mimetype": "text/x-python",
   "name": "python",
   "nbconvert_exporter": "python",
   "pygments_lexer": "ipython3",
   "version": "3.6.3"
  }
 },
 "nbformat": 4,
 "nbformat_minor": 2
}
